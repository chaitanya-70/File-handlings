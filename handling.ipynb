{
 "cells": [
  {
   "cell_type": "code",
   "execution_count": 3,
   "id": "a18d6ebc-648f-4a19-87a1-1acc371036c6",
   "metadata": {},
   "outputs": [
    {
     "name": "stdin",
     "output_type": "stream",
     "text": [
      "enter numerator: 4\n",
      "enter denominator: 2\n"
     ]
    },
    {
     "name": "stdout",
     "output_type": "stream",
     "text": [
      "result: 2.0\n"
     ]
    }
   ],
   "source": [
    "try:\n",
    "    num1=int(input(\"enter numerator:\"))\n",
    "    num2=int(input(\"enter denominator:\"))\n",
    "    output= num1/num2\n",
    "    print(\"result:\", output)\n",
    "except ZeroDivisionError:\n",
    "    print(\"cannot divide by zero\")\n",
    "         "
   ]
  },
  {
   "cell_type": "code",
   "execution_count": 13,
   "id": "a590b53a-48fc-45c2-818e-f68859f3263c",
   "metadata": {},
   "outputs": [
    {
     "name": "stdin",
     "output_type": "stream",
     "text": [
      "enter the file name:  handling1.py\n"
     ]
    },
    {
     "name": "stdout",
     "output_type": "stream",
     "text": [
      "File does not exist\n"
     ]
    }
   ],
   "source": [
    "try:\n",
    "    filename=input(\"enter the file name:\")\n",
    "    file=open(filename,'r')\n",
    "    number=int(file.readline())\n",
    "    print(\"number from file\",number)\n",
    "    file.close()\n",
    "except FileNotFoundError:\n",
    "    print(\"File does not exist\")\n",
    "except ValueError:\n",
    "    print(\"File does not have integer\")\n",
    "except:\n",
    "    print(\"Unknown Error\")"
   ]
  },
  {
   "cell_type": "code",
   "execution_count": 15,
   "id": "5ed64075-394f-4d12-852b-1d0091d9b867",
   "metadata": {},
   "outputs": [
    {
     "name": "stdin",
     "output_type": "stream",
     "text": [
      "enter a number: 2\n"
     ]
    },
    {
     "ename": "NameError",
     "evalue": "name 'math' is not defined",
     "output_type": "error",
     "traceback": [
      "\u001b[1;31m---------------------------------------------------------------------------\u001b[0m",
      "\u001b[1;31mNameError\u001b[0m                                 Traceback (most recent call last)",
      "Cell \u001b[1;32mIn[15], line 8\u001b[0m\n\u001b[0;32m      6\u001b[0m     \u001b[38;5;28mprint\u001b[39m(\u001b[38;5;124m\"\u001b[39m\u001b[38;5;124menter positive number only\u001b[39m\u001b[38;5;124m\"\u001b[39m)\n\u001b[0;32m      7\u001b[0m \u001b[38;5;28;01melse\u001b[39;00m:\n\u001b[1;32m----> 8\u001b[0m     \u001b[38;5;28mprint\u001b[39m(\u001b[38;5;124m\"\u001b[39m\u001b[38;5;124msquareroot:\u001b[39m\u001b[38;5;124m\"\u001b[39m,\u001b[38;5;28mround\u001b[39m(math\u001b[38;5;241m.\u001b[39msqrt(num),\u001b[38;5;241m4\u001b[39m))\n",
      "\u001b[1;31mNameError\u001b[0m: name 'math' is not defined"
     ]
    }
   ],
   "source": [
    "try:\n",
    "    num=int(input(\"enter a number:\"))\n",
    "    if num<0:\n",
    "        raise ValueError(\"Negative number:\")\n",
    "except ValueError:\n",
    "    print(\"enter positive number only\")\n",
    "else:\n",
    "    print(\"squareroot:\",round(math.sqrt(num),4))\n",
    "#     print(num**3)\n",
    "# except (keyboardInterrupt,valueError,TypeError):\n",
    "#     print(\"please check before executing...\")\n",
    "# print(\"program terminated...\")\n",
    "\n",
    "    "
   ]
  },
  {
   "cell_type": "code",
   "execution_count": 17,
   "id": "17b549c8-95c0-4e4e-8c1b-8fb7f9674c71",
   "metadata": {},
   "outputs": [
    {
     "name": "stdin",
     "output_type": "stream",
     "text": [
      "enter a number: 100\n"
     ]
    },
    {
     "name": "stdout",
     "output_type": "stream",
     "text": [
      "100\n",
      "Exception raised intentionally even no use\n"
     ]
    }
   ],
   "source": [
    "import math\n",
    "try:\n",
    "    num=int(input(\"enter a number:\"))\n",
    "    print(num)\n",
    "    raise ValueError\n",
    "except:\n",
    "    print(\"Exception raised intentionally even no use\")\n",
    "    "
   ]
  },
  {
   "cell_type": "code",
   "execution_count": 21,
   "id": "7793cf06-4077-4480-bd62-e1413bf2b325",
   "metadata": {},
   "outputs": [
    {
     "name": "stdout",
     "output_type": "stream",
     "text": [
      "Log file 'simple_log.log' created.\n"
     ]
    }
   ],
   "source": [
    "# Create a simple log file with multiple error messages\n",
    "\n",
    "with open(\"simple_log.log\", \"w\") as file:\n",
    "    file.write(\"[ERROR] FileNotFoundError: 'data.csv' not found\\n\")\n",
    "    file.write(\"[ERROR] ValueError: invalid literal for int() with base 10: 'abc'\\n\")\n",
    "    file.write(\"[ERROR] ZeroDivisionError: division by zero\\n\")\n",
    "    file.write(\"[ERROR] TypeError: unsupported operand type(s) for +: 'int' and 'str'\\n\")\n",
    "    file.write(\"[ERROR] KeyError: 'user_id'\\n\")\n",
    "\n",
    "print(\"Log file 'simple_log.log' created.\")\n"
   ]
  },
  {
   "cell_type": "code",
   "execution_count": 23,
   "id": "76e81fa0-d3dd-42ba-b744-d7ea29ee2a9c",
   "metadata": {},
   "outputs": [
    {
     "name": "stdin",
     "output_type": "stream",
     "text": [
      "enter numerator 1\n",
      "enter denoinator 3\n"
     ]
    },
    {
     "name": "stdout",
     "output_type": "stream",
     "text": [
      "Result: 0.3333333333333333\n"
     ]
    }
   ],
   "source": [
    "import datetime\n",
    "try:\n",
    "    x=int(input(\"enter numerator\"))\n",
    "    y=int(input(\"enter denoinator\"))\n",
    "    print(\"Result:\", x/y)\n",
    "except Exception as e:\n",
    "    ct= datetime.datetime.now().strftime(\"%Y-%m-%d %H:%M:%S\")\n",
    "    txt= f\"[{ct}]error: {type(e)} \\n\"\n",
    "    with open(\"data.txt\", 'a') as file:\n",
    "        file.write(txt)\n",
    "except (ValueError) as e:\n",
    "    ct= datetime.datetime.now().strftime(\"%Y-%m-%d %H:%M:%S\")\n",
    "    txt= f\"[{ct}]error: {type(e)} \\n\"\n",
    "    with open(\"data.txt\", 'a') as file:\n",
    "        file.write(txt)\n",
    "        \n",
    "        "
   ]
  },
  {
   "cell_type": "code",
   "execution_count": null,
   "id": "17fdec98-3f14-4a19-a3bc-ec3cd4334a5f",
   "metadata": {},
   "outputs": [],
   "source": []
  }
 ],
 "metadata": {
  "kernelspec": {
   "display_name": "Python 3 (ipykernel)",
   "language": "python",
   "name": "python3"
  },
  "language_info": {
   "codemirror_mode": {
    "name": "ipython",
    "version": 3
   },
   "file_extension": ".py",
   "mimetype": "text/x-python",
   "name": "python",
   "nbconvert_exporter": "python",
   "pygments_lexer": "ipython3",
   "version": "3.12.7"
  }
 },
 "nbformat": 4,
 "nbformat_minor": 5
}
